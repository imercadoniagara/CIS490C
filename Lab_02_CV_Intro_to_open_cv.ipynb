{
  "nbformat": 4,
  "nbformat_minor": 0,
  "metadata": {
    "colab": {
      "provenance": [],
      "collapsed_sections": [],
      "authorship_tag": "ABX9TyMOg3qmFhxdgZ6AhJbeLv1C",
      "include_colab_link": true
    },
    "kernelspec": {
      "name": "python3",
      "display_name": "Python 3"
    },
    "language_info": {
      "name": "python"
    }
  },
  "cells": [
    {
      "cell_type": "markdown",
      "metadata": {
        "id": "view-in-github",
        "colab_type": "text"
      },
      "source": [
        "<a href=\"https://colab.research.google.com/github/imercadoniagara/CIS490C/blob/main/Lab_02_CV_Intro_to_open_cv.ipynb\" target=\"_parent\"><img src=\"https://colab.research.google.com/assets/colab-badge.svg\" alt=\"Open In Colab\"/></a>"
      ]
    },
    {
      "cell_type": "markdown",
      "source": [
        "#### This notebook will show the basics of the OpenCV toolkit.\n",
        "\n",
        "[OpenCV Webpage](https://opencv.org)"
      ],
      "metadata": {
        "id": "OTTU6j28JU1P"
      }
    },
    {
      "cell_type": "code",
      "execution_count": 1,
      "metadata": {
        "colab": {
          "base_uri": "https://localhost:8080/"
        },
        "id": "SRHNAT1CJPaD",
        "outputId": "4faa2d43-b7cb-46fa-856f-0ca384ed7fb2"
      },
      "outputs": [
        {
          "output_type": "stream",
          "name": "stdout",
          "text": [
            "Loaded OpenCV module\n"
          ]
        }
      ],
      "source": [
        "import cv2\n",
        "print('Loaded OpenCV module')"
      ]
    },
    {
      "cell_type": "code",
      "source": [
        "# How to copy an image to our colab environment\n",
        "# We will use the wget shell command\n",
        "!wget 'https://en.wikipedia.org/wiki/Lenna#/media/File:Lenna_(test_image).png'"
      ],
      "metadata": {
        "colab": {
          "base_uri": "https://localhost:8080/"
        },
        "id": "8XGYwQmQKhAI",
        "outputId": "e447f998-9a3c-4620-9fa5-90c7ae6d11b2"
      },
      "execution_count": 4,
      "outputs": [
        {
          "output_type": "stream",
          "name": "stdout",
          "text": [
            "--2022-09-02 17:11:07--  https://en.wikipedia.org/wiki/Lenna\n",
            "Resolving en.wikipedia.org (en.wikipedia.org)... 208.80.154.224, 2620:0:861:ed1a::1\n",
            "Connecting to en.wikipedia.org (en.wikipedia.org)|208.80.154.224|:443... connected.\n",
            "HTTP request sent, awaiting response... 200 OK\n",
            "Length: 102468 (100K) [text/html]\n",
            "Saving to: ‘Lenna’\n",
            "\n",
            "\rLenna                 0%[                    ]       0  --.-KB/s               \rLenna               100%[===================>] 100.07K  --.-KB/s    in 0.03s   \n",
            "\n",
            "2022-09-02 17:11:07 (3.69 MB/s) - ‘Lenna’ saved [102468/102468]\n",
            "\n"
          ]
        }
      ]
    },
    {
      "cell_type": "code",
      "source": [
        "!ls"
      ],
      "metadata": {
        "colab": {
          "base_uri": "https://localhost:8080/"
        },
        "id": "zcslEJtwL5o3",
        "outputId": "b5469d0e-3cda-438a-d4e2-64e6225e0b9e"
      },
      "execution_count": 5,
      "outputs": [
        {
          "output_type": "stream",
          "name": "stdout",
          "text": [
            "Lenna  sample_data\n"
          ]
        }
      ]
    }
  ]
}