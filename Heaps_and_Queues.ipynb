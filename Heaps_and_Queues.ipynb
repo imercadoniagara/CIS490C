{
  "nbformat": 4,
  "nbformat_minor": 0,
  "metadata": {
    "colab": {
      "provenance": [],
      "collapsed_sections": [],
      "authorship_tag": "ABX9TyMvqoOY87UPqQRWlL7VdKOB",
      "include_colab_link": true
    },
    "kernelspec": {
      "name": "python3",
      "display_name": "Python 3"
    },
    "language_info": {
      "name": "python"
    }
  },
  "cells": [
    {
      "cell_type": "markdown",
      "metadata": {
        "id": "view-in-github",
        "colab_type": "text"
      },
      "source": [
        "<a href=\"https://colab.research.google.com/github/imercadoniagara/CIS490C/blob/main/Heaps_and_Queues.ipynb\" target=\"_parent\"><img src=\"https://colab.research.google.com/assets/colab-badge.svg\" alt=\"Open In Colab\"/></a>"
      ]
    },
    {
      "cell_type": "markdown",
      "source": [
        "[***Heap***](https://en.wikipedia.org/wiki/Heap_(data_structure)) -   \n",
        "\n",
        "<img src=\"https://cdn.programiz.com/cdn/farfuture/tVzREVaraXbOKPPJtMbcQ10N2QkxiAJcNOIfxPYlVR0/mtime:1582112622/sites/tutorial2program/files/minheap_0.png\" width=200>\n",
        "\n",
        "[***Queue***](https://en.wikipedia.org/wiki/Queue_(abstract_data_type)) - "
      ],
      "metadata": {
        "id": "tB1v16N4L9bT"
      }
    },
    {
      "cell_type": "code",
      "execution_count": null,
      "metadata": {
        "id": "uKjZGNnsLpBq"
      },
      "outputs": [],
      "source": []
    }
  ]
}